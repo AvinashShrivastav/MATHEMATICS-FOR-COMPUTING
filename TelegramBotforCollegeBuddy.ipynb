{
  "nbformat": 4,
  "nbformat_minor": 0,
  "metadata": {
    "colab": {
      "provenance": [],
      "mount_file_id": "194yiAoQpKhJgkLrIZjjRxTo5yeMDMVzR",
      "authorship_tag": "ABX9TyPRm9hICzhLGA0OhNEUlaBY",
      "include_colab_link": true
    },
    "kernelspec": {
      "name": "python3",
      "display_name": "Python 3"
    },
    "language_info": {
      "name": "python"
    }
  },
  "cells": [
    {
      "cell_type": "markdown",
      "metadata": {
        "id": "view-in-github",
        "colab_type": "text"
      },
      "source": [
        "<a href=\"https://colab.research.google.com/github/AvinashShrivastav/MATHEMATICS-FOR-COMPUTING/blob/TelegramBot/TelegramBotforCollegeBuddy.ipynb\" target=\"_parent\"><img src=\"https://colab.research.google.com/assets/colab-badge.svg\" alt=\"Open In Colab\"/></a>"
      ]
    },
    {
      "cell_type": "code",
      "execution_count": null,
      "metadata": {
        "id": "hwMrcTpTbFN4",
        "colab": {
          "base_uri": "https://localhost:8080/"
        },
        "outputId": "c8da0d85-2751-44d7-afd5-e05e62e384fe"
      },
      "outputs": [
        {
          "output_type": "stream",
          "name": "stdout",
          "text": [
            "Looking in indexes: https://pypi.org/simple, https://us-python.pkg.dev/colab-wheels/public/simple/\n",
            "Requirement already satisfied: tabula-py in /usr/local/lib/python3.8/dist-packages (2.6.0)\n",
            "Requirement already satisfied: distro in /usr/local/lib/python3.8/dist-packages (from tabula-py) (1.8.0)\n",
            "Requirement already satisfied: numpy in /usr/local/lib/python3.8/dist-packages (from tabula-py) (1.21.6)\n",
            "Requirement already satisfied: pandas>=0.25.3 in /usr/local/lib/python3.8/dist-packages (from tabula-py) (1.3.5)\n",
            "Requirement already satisfied: python-dateutil>=2.7.3 in /usr/local/lib/python3.8/dist-packages (from pandas>=0.25.3->tabula-py) (2.8.2)\n",
            "Requirement already satisfied: pytz>=2017.3 in /usr/local/lib/python3.8/dist-packages (from pandas>=0.25.3->tabula-py) (2022.6)\n",
            "Requirement already satisfied: six>=1.5 in /usr/local/lib/python3.8/dist-packages (from python-dateutil>=2.7.3->pandas>=0.25.3->tabula-py) (1.15.0)\n",
            "Looking in indexes: https://pypi.org/simple, https://us-python.pkg.dev/colab-wheels/public/simple/\n",
            "Requirement already satisfied: openpyxl in /usr/local/lib/python3.8/dist-packages (3.0.10)\n",
            "Requirement already satisfied: et-xmlfile in /usr/local/lib/python3.8/dist-packages (from openpyxl) (1.1.0)\n"
          ]
        }
      ],
      "source": [
        "!pip install tabula-py\n",
        "!pip install openpyxl"
      ]
    },
    {
      "cell_type": "code",
      "source": [
        "import requests\n",
        "import json\n",
        "import numpy as np\n",
        "import pandas as pd\n",
        "import csv\n",
        "from csv import writer\n",
        "import urllib.request\n",
        "import random\n",
        "import time\n",
        "import os.path\n",
        "import tabula\n",
        "from openpyxl import load_workbook"
      ],
      "metadata": {
        "id": "XgxT-gzRbqf6"
      },
      "execution_count": null,
      "outputs": []
    },
    {
      "cell_type": "code",
      "source": [
        "token = '5907695888:AAGF-nnatKVKHyADkdjyhiNUYsXmMYpn3wM'\n",
        "base_url = 'https://api.telegram.org/bot{}'.format(token)"
      ],
      "metadata": {
        "id": "KEAJ1NbCbrcV"
      },
      "execution_count": null,
      "outputs": []
    },
    {
      "cell_type": "code",
      "source": [
        "def save_data(response):\n",
        "  with open('/content/drive/Othercomputers/My Laptop/Projects/CollegeBuddyTelegramBot/responseData.csv', 'a') as csvfile:\n",
        "    w = writer(csvfile)\n",
        "    w.writerow(response.values())\n",
        "    csvfile.close()"
      ],
      "metadata": {
        "id": "7vNMzThvoBo4"
      },
      "execution_count": null,
      "outputs": []
    },
    {
      "cell_type": "code",
      "source": [
        "def saveSentData(results):\n",
        "  with open('/content/drive/Othercomputers/My Laptop/Projects/CollegeBuddyTelegramBot/sentData.csv', 'a') as csvfile:\n",
        "    print(results)\n",
        "    w = writer(csvfile)\n",
        "    w.writerow(results.json().values())\n",
        "    csvfile.close()"
      ],
      "metadata": {
        "id": "bAksTZE8tYM_"
      },
      "execution_count": null,
      "outputs": []
    },
    {
      "cell_type": "code",
      "source": [
        "def file_data(response,msg_dict):\n",
        "  if 'document' in msg_dict['updateType']:\n",
        "    file_name = msg_dict['update']['file_name']\n",
        "    if file_name == 'Book1.pdf':\n",
        "      file_id = msg_dict['update']['file_id']\n",
        "      get_file(response,file_id,'Book1.pdf')\n",
        "      send_msg(response,\"Book 1 Processed\")\n",
        "      print('Book1--downloaded')\n",
        "    elif file_name == 'Book2.pdf':\n",
        "      file_id = msg_dict['update']['file_id']\n",
        "      get_file(response,file_id,'Book2.pdf')\n",
        "      send_msg(response,\"Book 2 Processed\")\n",
        "      print('Book2--downloaded')\n",
        "    elif file_name == 'Book3.pdf':\n",
        "      file_id = msg_dict['update']['file_id']\n",
        "      get_file(response,file_id,'Book3.pdf')\n",
        "      send_msg(response,\"Book 3 Processed\")\n",
        "      print('Book3--downloaded')\n",
        "    elif file_name == 'guidelines.xlsx':\n",
        "      file_id = msg_dict['update']['file_id']\n",
        "      get_file(response,file_id,'guidelines.xlsx')\n",
        "      send_msg(response,\"Guidelines Processed\")\n",
        "      # data = tabula.convert_into(\"/content/drive/Othercomputers/My Laptop/Projects/CollegeBuddyTelegramBot/Docs/Guidelines.pdf\",'Guidelines.csv',pages = 'all',output_format='csv')\n",
        "      print('Guidelines--downloaded')\n",
        "    else:\n",
        "      send_msg(response,\"Sorry! I can't recognise this file. Please rename it as Book1,Book2,Book3 or Guidelines\")\n",
        "    save_data(response)\n",
        "  else:\n",
        "    save_data(response)\n",
        "\n",
        "  return  True\n",
        "\n",
        "\n",
        "\n"
      ],
      "metadata": {
        "id": "zcoaR_0d9z8N"
      },
      "execution_count": null,
      "outputs": []
    },
    {
      "cell_type": "code",
      "source": [
        "def readGuidelines(response,sheetName):\n",
        "  book = load_workbook('/content/drive/Othercomputers/My Laptop/Projects/CollegeBuddyTelegramBot/Docs/guidelines.xlsx')\n",
        "  print(book[sheetName])"
      ],
      "metadata": {
        "id": "ft4x9M9MGCXB"
      },
      "execution_count": null,
      "outputs": []
    },
    {
      "cell_type": "code",
      "source": [
        "def compile(response):\n",
        "  book = load_workbook('/content/drive/Othercomputers/My Laptop/Projects/CollegeBuddyTelegramBot/Docs/guidelines.xlsx')\n",
        "  sheets = book.sheetnames\n",
        "  print(sheets)\n",
        "  try:\n",
        "    compileBook()\n",
        "  except:\n",
        "    send_msg(response,\"Some Error Occured!\")\n"
      ],
      "metadata": {
        "id": "0BR54eJbN4Gt"
      },
      "execution_count": null,
      "outputs": []
    },
    {
      "cell_type": "code",
      "source": [
        "def compileBook():\n",
        "  for sheet in sheets:\n",
        "    df = pd.read_excel('/content/drive/Othercomputers/My Laptop/Projects/CollegeBuddyTelegramBot/Docs/guidelines.xlsx',sheet_name=sheet)\n",
        "    print(df.columns)\n",
        "    topics = df.Topic\n",
        "    fileNameList = []\n",
        "    pageNumberList = []\n",
        "    for i in range(df.Topic.count()):\n",
        "      fileNameList += [str(df.Topic[i])]\n",
        "      pageNumberList += [[df['From page'][i]-1,df['To page'][i]-3,df['Book Number'][i]]]\n",
        "    print(fileNameList)\n",
        "    print(pageNumberList)\n",
        "    fun(fileNameList,pageNumberList,sheet)"
      ],
      "metadata": {
        "id": "CQ2eaRPZXJvJ"
      },
      "execution_count": null,
      "outputs": []
    },
    {
      "cell_type": "code",
      "source": [
        "for sheet in sheets:\n",
        "    df = pd.read_excel('/content/drive/Othercomputers/My Laptop/Projects/CollegeBuddyTelegramBot/Docs/guidelines.xlsx',sheet_name=sheet)\n",
        "    print(df.columns)\n",
        "    topics = df.Topic\n",
        "    fileNameList = []\n",
        "    pageNumberList = []\n",
        "    for i in range(df.Topic.count()):\n",
        "      fileNameList += [str(df.Topic[i])]\n",
        "      pageNumberList += [[df['From page'][i]-1,df['To page'][i]-2,df['Book Number'][i]]]\n",
        "    print(fileNameList)\n",
        "    print(pageNumberList)\n",
        "    fun(fileNameList,pageNumberList,sheet)\n",
        "unit = ['Guidelines'] + sheets\n",
        "mergeFiles(unit,\"Semester 1 CSA\")"
      ],
      "metadata": {
        "colab": {
          "base_uri": "https://localhost:8080/"
        },
        "id": "3SzduherfNb4",
        "outputId": "483d40d3-a25c-44bb-cf26-16bda2dd12c0"
      },
      "execution_count": null,
      "outputs": [
        {
          "output_type": "stream",
          "name": "stdout",
          "text": [
            "Index(['Topic', 'From page', 'To page', 'Book Number'], dtype='object')\n",
            "['1.1', '1.2', '1.3', '1.4', '1.5', '1.6', '1.7(up to pg.28)']\n",
            "[[19, 21, 1], [23, 24, 1], [25, 29, 1], [30, 37, 1], [38, 41, 1], [42, 46, 1], [46, 46, 1]]\n",
            "Book1\n",
            "1.1 splited\n",
            "Book1\n",
            "1.2 splited\n",
            "Book1\n",
            "1.3 splited\n",
            "Book1\n",
            "1.4 splited\n",
            "Book1\n",
            "1.5 splited\n",
            "Book1\n",
            "1.6 splited\n",
            "Book1\n",
            "1.7(up to pg.28) splited\n",
            "File Merged\n",
            "File Created\n",
            "Index(['Topic', 'From page', 'To page', 'Book Number'], dtype='object')\n",
            "['2.2', '2.3', '2.7', '4.4 (up to fig. 4.7) ']\n",
            "[[61, 64, 1], [65, 67, 1], [77, 80, 1], [120, 122, 1]]\n",
            "Book1\n",
            "2.2 splited\n",
            "Book1\n",
            "2.3 splited\n",
            "Book1\n",
            "2.7 splited\n",
            "Book1\n",
            "4.4 (up to fig. 4.7)  splited\n",
            "File Merged\n",
            "File Created\n",
            "Index(['Topic', 'From page', 'To page', 'Book Number'], dtype='object')\n",
            "['3.1', '3.2', '3.3']\n",
            "[[85, 91, 1], [92, 94, 1], [95, 99, 1]]\n",
            "Book1\n",
            "3.1 splited\n",
            "Book1\n",
            "3.2 splited\n",
            "Book1\n",
            "3.3 splited\n",
            "File Merged\n",
            "File Created\n",
            "Index(['Topic', 'From page', 'To page', 'Book Number'], dtype='object')\n",
            "['5.1', '5.2', '5.3', '5.4 ( up to pg. 137)', '5.5', '5.6', '5.7', '9.2']\n",
            "[[143, 146, 1], [147, 151, 1], [152, 154, 1], [155, 155, 1], [159, 163, 1], [165, 169, 1], [170, 175, 1], [322, 326, 1]]\n",
            "Book1\n",
            "5.1 splited\n",
            "Book1\n",
            "5.2 splited\n",
            "Book1\n",
            "5.3 splited\n",
            "Book1\n",
            "5.4 ( up to pg. 137) splited\n",
            "Book1\n",
            "5.5 splited\n",
            "Book1\n",
            "5.6 splited\n",
            "Book1\n",
            "5.7 splited\n",
            "Book1\n",
            "9.2 splited\n",
            "File Merged\n",
            "File Created\n",
            "Index(['Topic', 'From page', 'To page', 'Book Number'], dtype='object')\n",
            "['8.1', '8.2', '8.3(up to pg. 247)', '8.5', '8.8  (only characteristics, i.e., pg. 282 – 284) ', '7.1 (page 632-Introduction of Multicore Processor)', '7.7 (page 654-656) Characteristics of GPU Vs. CPU']\n",
            "[[261, 261, 1], [262, 266, 1], [267, 268, 1], [280, 285, 1], [302, 304, 1], [-1, -2, 2], [-1, -2, 2]]\n",
            "Book1\n",
            "8.1 splited\n",
            "Book1\n",
            "8.2 splited\n",
            "Book1\n",
            "8.3(up to pg. 247) splited\n",
            "Book1\n",
            "8.5 splited\n",
            "Book1\n"
          ]
        },
        {
          "output_type": "stream",
          "name": "stderr",
          "text": [
            "WARNING:PyPDF2._reader:Xref table not zero-indexed. ID numbers for objects will be corrected.\n"
          ]
        },
        {
          "output_type": "stream",
          "name": "stdout",
          "text": [
            "8.8  (only characteristics, i.e., pg. 282 – 284)  splited\n",
            "Book2\n"
          ]
        },
        {
          "output_type": "stream",
          "name": "stderr",
          "text": [
            "WARNING:PyPDF2._reader:Xref table not zero-indexed. ID numbers for objects will be corrected.\n"
          ]
        },
        {
          "output_type": "stream",
          "name": "stdout",
          "text": [
            "7.1 (page 632-Introduction of Multicore Processor) splited\n",
            "Book2\n",
            "7.7 (page 654-656) Characteristics of GPU Vs. CPU splited\n",
            "File Merged\n",
            "File Created\n",
            "Index(['Topic', 'From page', 'To page', 'Book Number'], dtype='object')\n",
            "['11.2 (up to pg-388)', '11.4', '11.6 (up to pg-416)', '12.1 (up to pg-446)']\n",
            "[[405, 406, 1], [422, 426, 1], [435, 435, 1], [465, 467, 1]]\n",
            "Book1\n",
            "11.2 (up to pg-388) splited\n",
            "Book1\n",
            "11.4 splited\n",
            "Book1\n",
            "11.6 (up to pg-416) splited\n",
            "Book1\n",
            "12.1 (up to pg-446) splited\n",
            "File Merged\n",
            "File Created\n",
            "File Merged\n"
          ]
        },
        {
          "output_type": "execute_result",
          "data": {
            "text/plain": [
              "True"
            ]
          },
          "metadata": {},
          "execution_count": 69
        }
      ]
    },
    {
      "cell_type": "code",
      "source": [
        "def get_file(response,file_id,file_name):\n",
        "  rootFolder = '/content/drive/Othercomputers/My Laptop/Projects/CollegeBuddyTelegramBot/Docs/'\n",
        "  token = '5907695888:AAGF-nnatKVKHyADkdjyhiNUYsXmMYpn3wM'\n",
        "  base_url = ' https://api.telegram.org/bot{}'.format(token)\n",
        "  getFile = requests.get(base_url+\"/getFile?file_id=\"+file_id).json()\n",
        "  print(getFile)\n",
        "  file_path = getFile[\"result\"]['file_path']\n",
        "  file_url = 'https://api.telegram.org/file/bot'+token+'/'+file_path\n",
        "  print(file_url)\n",
        "  urllib.request.urlretrieve(file_url,rootFolder+file_name)\n",
        "  print(file_name,\"has been saved\")\n",
        "  send_msg(response,str(file_name)+\" Received!\")\n",
        "  return True\n"
      ],
      "metadata": {
        "id": "RDg2dPhqb8Fm"
      },
      "execution_count": null,
      "outputs": []
    },
    {
      "cell_type": "code",
      "source": [
        "def message_id(response):\n",
        "  msg_id = response['message']['message_id']\n",
        "  print('Message id Extracted')\n",
        "  return msg_id"
      ],
      "metadata": {
        "id": "pKKCjvbcgDy1"
      },
      "execution_count": null,
      "outputs": []
    },
    {
      "cell_type": "code",
      "source": [
        "def req_msg(response):\n",
        "  method = 'sendMessage'\n",
        "  param = {\n",
        "      'chat_id':sender_detail(response)['id'],\n",
        "      'reply_to_message_id' : message_id(response),\n",
        "      'text' :\"It would be highly appreciable if you join my group and give feedback. See you there!\",\n",
        "      'protect_content' : True,\n",
        "      'allow_sending_without_reply': True\n",
        "\n",
        "  }\n",
        "  results = requests.get(base_url + '/' + method ,param)\n",
        "  print(\"Request Message sent\")"
      ],
      "metadata": {
        "id": "m4JJLDR2gKbc"
      },
      "execution_count": null,
      "outputs": []
    },
    {
      "cell_type": "code",
      "source": [
        "def save_data2(response,msg_dict):\n",
        "  with open('data.csv', 'a') as csvfile:\n",
        "    w = writer(csvfile)\n",
        "    w.writerow(msg_dict.values())\n",
        "    csvfile.close()\n",
        "    print(\"Data Saved\")"
      ],
      "metadata": {
        "id": "NO1y1FWbgOTI"
      },
      "execution_count": null,
      "outputs": []
    },
    {
      "cell_type": "code",
      "source": [
        "def editMessageText(response,text):\n",
        "  method = 'editMessageText'\n",
        "  param = {\n",
        "      'message_id': message_id(response),\n",
        "      'chat_id': sender_detail(response)['id'] ,\n",
        "      'text' : text,\n",
        "      'protect_content' : True,\n",
        "      'allow_sending_without_reply': True\n",
        "\n",
        "    }\n",
        "  requests.get(base_url + '/' + method ,param)\n",
        "  print(\"Message Edited\")"
      ],
      "metadata": {
        "id": "nXNLZ_9NgQbm"
      },
      "execution_count": null,
      "outputs": []
    },
    {
      "cell_type": "code",
      "source": [
        "def dynamicMsg(response):\n",
        "  method = 'sendMessage'\n",
        "  param = {\n",
        "      'chat_id':1422299869 ,\n",
        "      'text' : 'hey'\n",
        "\n",
        "  }\n",
        "  results = requests.get(base_url + '/' + method ,param)\n",
        "  print(results.json())\n",
        "  time.sleep(1)\n",
        "  editMessageText(results.json(),3)\n",
        "  time.sleep(1)\n",
        "  editMessageText(results.json(),2)\n",
        "  time.sleep(1)\n",
        "  editMessageText(results.json(),1)\n",
        "  editMessageText(results.json(),'Lets Go!!!!!')\n",
        "  time.sleep(2)\n",
        "  deleteMessage(results.json())\n",
        "  print(\"dynamicMsg() executed successfully\")"
      ],
      "metadata": {
        "id": "irbgriBPgSgf"
      },
      "execution_count": null,
      "outputs": []
    },
    {
      "cell_type": "code",
      "source": [
        "def deleteMessage(response):\n",
        "  method = 'deleteMessage'\n",
        "  param = {\n",
        "      'message_id': message_id(response),\n",
        "      'chat_id': sender_detail(response)['id']\n",
        "  }\n",
        "  requests.get(base_url + '/' + method ,param)\n",
        "  print(\"Message Deleted\")"
      ],
      "metadata": {
        "id": "S7cHm1QwgTXY"
      },
      "execution_count": null,
      "outputs": []
    },
    {
      "cell_type": "code",
      "source": [
        "#Main Working Area\n",
        "def read_msg(base_url,offset):\n",
        "  method =  'getUpdates'\n",
        "  param = {\n",
        "      'offset': offset,\n",
        "      'allowed_updates' : ['message','edited_message']\n",
        "  }\n",
        "  response = requests.get(base_url+'/'+ method,params=param).json()\n",
        "  print(response)\n",
        "  # if response['result'].keys() != []:\n",
        "  #   send_msg(response,\"Hey \"+sender_detail(response)[\"first_name\"]+\"!\\n Greetings from College Buddy Bot! I can help you in compiling your study material pdfs according to your college's guidelines. Let me know the number of reference books assigned to you. Well, I can work efficiently upto three reference books.\")\n",
        "  for response in response['result']:\n",
        "    if response.keys() != []:\n",
        "      msg_dict = extract_update(response)\n",
        "      print([msg_dict])\n",
        "      print(\"file_data() called\")\n",
        "      file_data(response,msg_dict)\n",
        "      print(\"file_data() executed successfully\")\n",
        "      sendDoc(response,'guidelines.xlsx')\n",
        "      if response:\n",
        "        return response[\"update_id\"] + 1 \n",
        "\n"
      ],
      "metadata": {
        "id": "L8TlmQNdgYZH"
      },
      "execution_count": null,
      "outputs": []
    },
    {
      "cell_type": "code",
      "source": [
        "def errorsend_msg(response):\n",
        "  response= ['Opps Something went wrong! Try Again Later','I am unable to handle this request at the moment. Please try again','Arre! mai padh nhi paya msg. Phir se try kro']\n",
        "  text=random.choice(response)\n",
        "  send_msg(response,text)\n",
        "  print(\"Error Message sent\")"
      ],
      "metadata": {
        "id": "um442_IXgg6e"
      },
      "execution_count": null,
      "outputs": []
    },
    {
      "cell_type": "code",
      "source": [
        "def send_msg(response,text):\n",
        "  method = 'sendMessage'\n",
        "  param = {\n",
        "      'chat_id':sender_detail(response)['id'] ,\n",
        "      'text' : text,\n",
        "      'protect_content' : True,\n",
        "      'reply_to_message_id' : message_id(response),\n",
        "      'allow_sending_without_reply': True\n",
        "\n",
        "  }\n",
        "  results = requests.get(base_url + '/' + method ,param)\n",
        "  # if chat_detail(response)['type']=='private':\n",
        "  #   req_msg(response)\n",
        "  saveSentData(results)\n",
        "  print(results.json())\n",
        "  print(\"Message Sent\")\n",
        "  return True"
      ],
      "metadata": {
        "id": "T7xJijC8J1j3"
      },
      "execution_count": null,
      "outputs": []
    },
    {
      "cell_type": "code",
      "source": [
        "def sender_detail(response):\n",
        "  msg_data={}\n",
        "  fromdata = response['message']['from']\n",
        "  print(\"Sender Details Extracted\")\n",
        "  return fromdata"
      ],
      "metadata": {
        "id": "vYVBzpRygld-"
      },
      "execution_count": null,
      "outputs": []
    },
    {
      "cell_type": "code",
      "source": [
        "def chat_detail(response):\n",
        "  chat = response['message']['chat']\n",
        "  print(\"Chat details Extracted\")\n",
        "  return chat"
      ],
      "metadata": {
        "id": "X-1937RUgrLl"
      },
      "execution_count": null,
      "outputs": []
    },
    {
      "cell_type": "code",
      "source": [
        "def extract_update(response):\n",
        "  msg_data = {}\n",
        "  updateType = list(response['message'].keys())[-1]\n",
        "  iterate = list(response['message'][updateType])\n",
        "  if 'caption' in iterate:\n",
        "    updateType = iterate[-2]\n",
        "    caption = iterate[-1]\n",
        "    msg_data['caption'] = caption\n",
        "  update = response['message'][updateType]\n",
        "  msg_data['updateType']=updateType\n",
        "  msg_data['update'] = update\n",
        "  return msg_data\n",
        "  print(\"Message Extracted\") \n",
        "     \n"
      ],
      "metadata": {
        "id": "fuigpGlrgwdN"
      },
      "execution_count": null,
      "outputs": []
    },
    {
      "cell_type": "markdown",
      "source": [
        "#Offset"
      ],
      "metadata": {
        "id": "zQbgeu4t6ZRn"
      }
    },
    {
      "cell_type": "code",
      "source": [
        "offset = 0\n",
        "while True:\n",
        "  offset = read_msg(base_url,offset)"
      ],
      "metadata": {
        "id": "Xm-m-UuYgciK",
        "colab": {
          "base_uri": "https://localhost:8080/",
          "height": 435
        },
        "outputId": "9160aa1b-dca4-4aa5-f09d-bcea4affba0e"
      },
      "execution_count": null,
      "outputs": [
        {
          "output_type": "stream",
          "name": "stdout",
          "text": [
            "{'ok': True, 'result': [{'update_id': 262753819, 'message': {'message_id': 466, 'from': {'id': 1422299869, 'is_bot': False, 'first_name': 'Avinash', 'last_name': 'Shrivastava', 'username': 'avishrivastava', 'language_code': 'en'}, 'chat': {'id': 1422299869, 'first_name': 'Avinash', 'last_name': 'Shrivastava', 'username': 'avishrivastava', 'type': 'private'}, 'date': 1671354248, 'media_group_id': '13370833988846237', 'document': {'file_name': 'Book2.pdf', 'mime_type': 'application/pdf', 'file_id': 'BQACAgUAAxkBAAIB0mOe14imxVh-d8ycIipqruHh-0QJAAJuCQAC4iX4VL4wmhRqwQFALAQ', 'file_unique_id': 'AgADbgkAAuIl-FQ', 'file_size': 30635805}}}, {'update_id': 262753820, 'message': {'message_id': 467, 'from': {'id': 1422299869, 'is_bot': False, 'first_name': 'Avinash', 'last_name': 'Shrivastava', 'username': 'avishrivastava', 'language_code': 'en'}, 'chat': {'id': 1422299869, 'first_name': 'Avinash', 'last_name': 'Shrivastava', 'username': 'avishrivastava', 'type': 'private'}, 'date': 1671354248, 'media_group_id': '13370833988846237', 'document': {'file_name': 'Book1.pdf', 'mime_type': 'application/pdf', 'file_id': 'BQACAgUAAxkBAAIB02Oe14h1gkSvI_JWo-7ucbZQq9cjAAJvCQAC4iX4VIg66Heyv3xWLAQ', 'file_unique_id': 'AgADbwkAAuIl-FQ', 'file_size': 12470430}}}]}\n",
            "[{'updateType': 'document', 'update': {'file_name': 'Book2.pdf', 'mime_type': 'application/pdf', 'file_id': 'BQACAgUAAxkBAAIB0mOe14imxVh-d8ycIipqruHh-0QJAAJuCQAC4iX4VL4wmhRqwQFALAQ', 'file_unique_id': 'AgADbgkAAuIl-FQ', 'file_size': 30635805}}]\n",
            "file_data() called\n",
            "{'ok': False, 'error_code': 400, 'description': 'Bad Request: file is too big'}\n"
          ]
        },
        {
          "output_type": "error",
          "ename": "KeyError",
          "evalue": "ignored",
          "traceback": [
            "\u001b[0;31m---------------------------------------------------------------------------\u001b[0m",
            "\u001b[0;31mKeyError\u001b[0m                                  Traceback (most recent call last)",
            "\u001b[0;32m<ipython-input-47-8b39a7243024>\u001b[0m in \u001b[0;36m<module>\u001b[0;34m\u001b[0m\n\u001b[1;32m      1\u001b[0m \u001b[0moffset\u001b[0m \u001b[0;34m=\u001b[0m \u001b[0;36m0\u001b[0m\u001b[0;34m\u001b[0m\u001b[0;34m\u001b[0m\u001b[0m\n\u001b[1;32m      2\u001b[0m \u001b[0;32mwhile\u001b[0m \u001b[0;32mTrue\u001b[0m\u001b[0;34m:\u001b[0m\u001b[0;34m\u001b[0m\u001b[0;34m\u001b[0m\u001b[0m\n\u001b[0;32m----> 3\u001b[0;31m   \u001b[0moffset\u001b[0m \u001b[0;34m=\u001b[0m \u001b[0mread_msg\u001b[0m\u001b[0;34m(\u001b[0m\u001b[0mbase_url\u001b[0m\u001b[0;34m,\u001b[0m\u001b[0moffset\u001b[0m\u001b[0;34m)\u001b[0m\u001b[0;34m\u001b[0m\u001b[0;34m\u001b[0m\u001b[0m\n\u001b[0m",
            "\u001b[0;32m<ipython-input-27-764cffe2f54f>\u001b[0m in \u001b[0;36mread_msg\u001b[0;34m(base_url, offset)\u001b[0m\n\u001b[1;32m     15\u001b[0m       \u001b[0mprint\u001b[0m\u001b[0;34m(\u001b[0m\u001b[0;34m[\u001b[0m\u001b[0mmsg_dict\u001b[0m\u001b[0;34m]\u001b[0m\u001b[0;34m)\u001b[0m\u001b[0;34m\u001b[0m\u001b[0;34m\u001b[0m\u001b[0m\n\u001b[1;32m     16\u001b[0m       \u001b[0mprint\u001b[0m\u001b[0;34m(\u001b[0m\u001b[0;34m\"file_data() called\"\u001b[0m\u001b[0;34m)\u001b[0m\u001b[0;34m\u001b[0m\u001b[0;34m\u001b[0m\u001b[0m\n\u001b[0;32m---> 17\u001b[0;31m       \u001b[0mfile_data\u001b[0m\u001b[0;34m(\u001b[0m\u001b[0mresponse\u001b[0m\u001b[0;34m,\u001b[0m\u001b[0mmsg_dict\u001b[0m\u001b[0;34m)\u001b[0m\u001b[0;34m\u001b[0m\u001b[0;34m\u001b[0m\u001b[0m\n\u001b[0m\u001b[1;32m     18\u001b[0m       \u001b[0mprint\u001b[0m\u001b[0;34m(\u001b[0m\u001b[0;34m\"file_data() executed successfully\"\u001b[0m\u001b[0;34m)\u001b[0m\u001b[0;34m\u001b[0m\u001b[0;34m\u001b[0m\u001b[0m\n\u001b[1;32m     19\u001b[0m       \u001b[0msendDoc\u001b[0m\u001b[0;34m(\u001b[0m\u001b[0mresponse\u001b[0m\u001b[0;34m,\u001b[0m\u001b[0;34m'guidelines.xlsx'\u001b[0m\u001b[0;34m)\u001b[0m\u001b[0;34m\u001b[0m\u001b[0;34m\u001b[0m\u001b[0m\n",
            "\u001b[0;32m<ipython-input-39-bbcbf6a7489c>\u001b[0m in \u001b[0;36mfile_data\u001b[0;34m(response, msg_dict)\u001b[0m\n\u001b[1;32m      9\u001b[0m     \u001b[0;32melif\u001b[0m \u001b[0mfile_name\u001b[0m \u001b[0;34m==\u001b[0m \u001b[0;34m'Book2.pdf'\u001b[0m\u001b[0;34m:\u001b[0m\u001b[0;34m\u001b[0m\u001b[0;34m\u001b[0m\u001b[0m\n\u001b[1;32m     10\u001b[0m       \u001b[0mfile_id\u001b[0m \u001b[0;34m=\u001b[0m \u001b[0mmsg_dict\u001b[0m\u001b[0;34m[\u001b[0m\u001b[0;34m'update'\u001b[0m\u001b[0;34m]\u001b[0m\u001b[0;34m[\u001b[0m\u001b[0;34m'file_id'\u001b[0m\u001b[0;34m]\u001b[0m\u001b[0;34m\u001b[0m\u001b[0;34m\u001b[0m\u001b[0m\n\u001b[0;32m---> 11\u001b[0;31m       \u001b[0mget_file\u001b[0m\u001b[0;34m(\u001b[0m\u001b[0mresponse\u001b[0m\u001b[0;34m,\u001b[0m\u001b[0mfile_id\u001b[0m\u001b[0;34m,\u001b[0m\u001b[0;34m'Book2.pdf'\u001b[0m\u001b[0;34m)\u001b[0m\u001b[0;34m\u001b[0m\u001b[0;34m\u001b[0m\u001b[0m\n\u001b[0m\u001b[1;32m     12\u001b[0m       \u001b[0msend_msg\u001b[0m\u001b[0;34m(\u001b[0m\u001b[0mresponse\u001b[0m\u001b[0;34m,\u001b[0m\u001b[0;34m\"Book 2 Processed\"\u001b[0m\u001b[0;34m)\u001b[0m\u001b[0;34m\u001b[0m\u001b[0;34m\u001b[0m\u001b[0m\n\u001b[1;32m     13\u001b[0m       \u001b[0mprint\u001b[0m\u001b[0;34m(\u001b[0m\u001b[0;34m'Book2--downloaded'\u001b[0m\u001b[0;34m)\u001b[0m\u001b[0;34m\u001b[0m\u001b[0;34m\u001b[0m\u001b[0m\n",
            "\u001b[0;32m<ipython-input-46-0e0dad84c3ae>\u001b[0m in \u001b[0;36mget_file\u001b[0;34m(response, file_id, file_name)\u001b[0m\n\u001b[1;32m      5\u001b[0m   \u001b[0mgetFile\u001b[0m \u001b[0;34m=\u001b[0m \u001b[0mrequests\u001b[0m\u001b[0;34m.\u001b[0m\u001b[0mget\u001b[0m\u001b[0;34m(\u001b[0m\u001b[0mbase_url\u001b[0m\u001b[0;34m+\u001b[0m\u001b[0;34m\"/getFile?file_id=\"\u001b[0m\u001b[0;34m+\u001b[0m\u001b[0mfile_id\u001b[0m\u001b[0;34m)\u001b[0m\u001b[0;34m.\u001b[0m\u001b[0mjson\u001b[0m\u001b[0;34m(\u001b[0m\u001b[0;34m)\u001b[0m\u001b[0;34m\u001b[0m\u001b[0;34m\u001b[0m\u001b[0m\n\u001b[1;32m      6\u001b[0m   \u001b[0mprint\u001b[0m\u001b[0;34m(\u001b[0m\u001b[0mgetFile\u001b[0m\u001b[0;34m)\u001b[0m\u001b[0;34m\u001b[0m\u001b[0;34m\u001b[0m\u001b[0m\n\u001b[0;32m----> 7\u001b[0;31m   \u001b[0mfile_path\u001b[0m \u001b[0;34m=\u001b[0m \u001b[0mgetFile\u001b[0m\u001b[0;34m[\u001b[0m\u001b[0;34m\"result\"\u001b[0m\u001b[0;34m]\u001b[0m\u001b[0;34m[\u001b[0m\u001b[0;34m'file_path'\u001b[0m\u001b[0;34m]\u001b[0m\u001b[0;34m\u001b[0m\u001b[0;34m\u001b[0m\u001b[0m\n\u001b[0m\u001b[1;32m      8\u001b[0m   \u001b[0mfile_url\u001b[0m \u001b[0;34m=\u001b[0m \u001b[0;34m'https://api.telegram.org/file/bot'\u001b[0m\u001b[0;34m+\u001b[0m\u001b[0mtoken\u001b[0m\u001b[0;34m+\u001b[0m\u001b[0;34m'/'\u001b[0m\u001b[0;34m+\u001b[0m\u001b[0mfile_path\u001b[0m\u001b[0;34m\u001b[0m\u001b[0;34m\u001b[0m\u001b[0m\n\u001b[1;32m      9\u001b[0m   \u001b[0mprint\u001b[0m\u001b[0;34m(\u001b[0m\u001b[0mfile_url\u001b[0m\u001b[0;34m)\u001b[0m\u001b[0;34m\u001b[0m\u001b[0;34m\u001b[0m\u001b[0m\n",
            "\u001b[0;31mKeyError\u001b[0m: 'result'"
          ]
        }
      ]
    },
    {
      "cell_type": "code",
      "source": [
        "false = False\n",
        "true = True\n",
        "response = {\"update_id\":784222017,\"message\":{\"message_id\":349,\"from\":{\"id\":1422299869,\"is_bot\":false,\"first_name\":\"Avinash\",\"last_name\":\"Shrivastava\",\"username\":\"avishrivastava\",\"language_code\":\"en\"},\"chat\":{\"id\":-1001763475425,\"title\":\"IITM Buddy\",\"type\":\"supergroup\"},\"date\":1666859103,\"poll\":{\"id\":\"1\",\"question\":\"Shsjhd\",\"options\":[{\"text\":\"Djfh\",\"voter_count\":0},{\"text\":\"J4rrj\",\"voter_count\":0}],\"total_voter_count\":0,\"is_closed\":false,\"is_anonymous\":true,\"type\":\"regular\",\"allows_multiple_answers\":false}}},{\"update_id\":784222017,\"message\":{\"message_id\":349,\"from\":{\"id\":1422299869,\"is_bot\":false,\"first_name\":\"Avinash\",\"last_name\":\"Shrivastava\",\"username\":\"avishrivastava\",\"language_code\":\"en\"},\"chat\":{\"id\":-1001763475425,\"title\":\"IITM Buddy\",\"type\":\"supergroup\"},\"date\":1666859103,\"poll\":{\"id\":\"2\",\"question\":\"Shsjhd\",\"options\":[{\"text\":\"Djfh\",\"voter_count\":0},{\"text\":\"J4rrj\",\"voter_count\":0}],\"total_voter_count\":0,\"is_closed\":false,\"is_anonymous\":true,\"type\":\"regular\",\"allows_multiple_answers\":false}}}\n",
        "sendDoc(response,'guidelines.xlsx')"
      ],
      "metadata": {
        "id": "hGZAZlVevV14"
      },
      "execution_count": null,
      "outputs": []
    },
    {
      "cell_type": "code",
      "source": [
        "print(response)"
      ],
      "metadata": {
        "id": "tH5OodF1LZiP"
      },
      "execution_count": null,
      "outputs": []
    },
    {
      "cell_type": "code",
      "source": [
        "msg_data = {}\n",
        "updateType = list(response['message'].keys())[-1]\n",
        "iterate = list(response['message'][updateType])\n",
        "if 'caption' in iterate:\n",
        "  updateType = iterate[-2]\n",
        "  caption = iterate[-1]\n",
        "  msg_data['caption'] = caption\n",
        "update = response['message'][updateType]\n",
        "msg_data['updateType']=updateType\n",
        "msg_data['update'] = update\n",
        "print(msg_data)"
      ],
      "metadata": {
        "id": "gpS44JnqP8d3"
      },
      "execution_count": null,
      "outputs": []
    },
    {
      "cell_type": "code",
      "source": [
        "data = tabula.read_pdf(\"/content/drive/Othercomputers/My Laptop/Projects/CollegeBuddyTelegramBot/Docs/Guidelines.pdf\",pages = 'all')\n",
        "print(data,'Guidelines--downloaded')"
      ],
      "metadata": {
        "id": "2NUQL7AY_JCM"
      },
      "execution_count": null,
      "outputs": []
    },
    {
      "cell_type": "code",
      "source": [
        "def sendDoc(response,fileName):\n",
        "  chat_id = sender_detail(response)['id']\n",
        "  token = '5907695888:AAGF-nnatKVKHyADkdjyhiNUYsXmMYpn3wM'\n",
        "  base_url = 'https://api.telegram.org/bot{}'.format(token)\n",
        "  rootFolder = '/content/drive/Othercomputers/My Laptop/Projects/CollegeBuddyTelegramBot/Docs/'\n",
        "  files = {'document' : open(rootFolder+fileName,'rb')}\n",
        "  response = requests.post(base_url+'/sendDocument?chat_id={}'.format(chat_id),files=files)\n",
        "  print(response.status_code)"
      ],
      "metadata": {
        "id": "3mQxsLJr_WW7"
      },
      "execution_count": null,
      "outputs": []
    },
    {
      "cell_type": "code",
      "source": [],
      "metadata": {
        "id": "jXafI7jwKbiL"
      },
      "execution_count": null,
      "outputs": []
    },
    {
      "cell_type": "code",
      "source": [
        "readGuidelines(response,\"Unit 1\")"
      ],
      "metadata": {
        "id": "sozChkf3KZzj",
        "colab": {
          "base_uri": "https://localhost:8080/",
          "height": 166
        },
        "outputId": "29fc789f-1183-4b63-edde-bea266d8e495"
      },
      "execution_count": null,
      "outputs": [
        {
          "output_type": "error",
          "ename": "NameError",
          "evalue": "ignored",
          "traceback": [
            "\u001b[0;31m---------------------------------------------------------------------------\u001b[0m",
            "\u001b[0;31mNameError\u001b[0m                                 Traceback (most recent call last)",
            "\u001b[0;32m<ipython-input-23-cadad0de3b6f>\u001b[0m in \u001b[0;36m<module>\u001b[0;34m\u001b[0m\n\u001b[0;32m----> 1\u001b[0;31m \u001b[0mreadGuidelines\u001b[0m\u001b[0;34m(\u001b[0m\u001b[0mresponse\u001b[0m\u001b[0;34m,\u001b[0m\u001b[0;34m\"Unit 1\"\u001b[0m\u001b[0;34m)\u001b[0m\u001b[0;34m\u001b[0m\u001b[0;34m\u001b[0m\u001b[0m\n\u001b[0m",
            "\u001b[0;31mNameError\u001b[0m: name 'response' is not defined"
          ]
        }
      ]
    },
    {
      "cell_type": "markdown",
      "source": [
        "#Reading Files\n"
      ],
      "metadata": {
        "id": "rTsm0OvbYgg3"
      }
    },
    {
      "cell_type": "code",
      "source": [
        "!pip install PyPDF2\n",
        "!pip install reportlab"
      ],
      "metadata": {
        "colab": {
          "base_uri": "https://localhost:8080/"
        },
        "id": "eQudhyNzYjiW",
        "outputId": "f58863de-4930-4eae-8aa1-f1ce4259a638"
      },
      "execution_count": null,
      "outputs": [
        {
          "output_type": "stream",
          "name": "stdout",
          "text": [
            "Looking in indexes: https://pypi.org/simple, https://us-python.pkg.dev/colab-wheels/public/simple/\n",
            "Requirement already satisfied: PyPDF2 in /usr/local/lib/python3.8/dist-packages (2.12.1)\n",
            "Requirement already satisfied: typing_extensions>=3.10.0.0 in /usr/local/lib/python3.8/dist-packages (from PyPDF2) (4.4.0)\n",
            "Looking in indexes: https://pypi.org/simple, https://us-python.pkg.dev/colab-wheels/public/simple/\n",
            "Requirement already satisfied: reportlab in /usr/local/lib/python3.8/dist-packages (3.6.12)\n",
            "Requirement already satisfied: pillow>=9.0.0 in /usr/local/lib/python3.8/dist-packages (from reportlab) (9.3.0)\n"
          ]
        }
      ]
    },
    {
      "cell_type": "code",
      "source": [
        "from PyPDF2 import PdfFileReader, PdfFileWriter, PdfMerger\n",
        "from reportlab.pdfgen.canvas import Canvas"
      ],
      "metadata": {
        "id": "tDUwFQZrY1Ln"
      },
      "execution_count": null,
      "outputs": []
    },
    {
      "cell_type": "code",
      "source": [
        "def splitpdf(book,topic,pagerange):\n",
        "  rootFolder = '/content/drive/Othercomputers/My Laptop/Projects/CollegeBuddyTelegramBot/Docs/'\n",
        "  with open(rootFolder+book+'.pdf','rb') as file:\n",
        "      reader = PdfFileReader(file)\n",
        "      writer = PdfFileWriter()\n",
        "      for page in range(len(reader.pages)):\n",
        "        if page in pagerange:\n",
        "          writer.addPage(reader.getPage(page))\n",
        "          with open(rootFolder+topic+'.pdf','wb') as file:\n",
        "            writer.write(file)"
      ],
      "metadata": {
        "id": "A_qOrSXnY5BK"
      },
      "execution_count": null,
      "outputs": []
    },
    {
      "cell_type": "code",
      "source": [
        "def mergeFiles(fileNameList,filename):\n",
        "  rootFolder = '/content/drive/Othercomputers/My Laptop/Projects/CollegeBuddyTelegramBot/Docs/'\n",
        "  merger = PdfMerger()\n",
        "  for pdf in fileNameList:\n",
        "    canvas = Canvas(rootFolder+pdf+'canvas.pdf')\n",
        "    canvas.drawString(23,57,pdf+\"---:) https://github.com/AvinashShrivastav/CSA\")\n",
        "    canvas.save()\n",
        "    merger.append(rootFolder+pdf+'canvas.pdf')\n",
        "    pdf = rootFolder+pdf + '.pdf'\n",
        "    merger.append(pdf)\n",
        "  merger.write(rootFolder+str(filename)+'.pdf')\n",
        "  merger.close()\n",
        "  print(\"File Merged\")\n",
        "  return True"
      ],
      "metadata": {
        "id": "ETXBHY4WY8dI"
      },
      "execution_count": null,
      "outputs": []
    },
    {
      "cell_type": "code",
      "source": [
        "def fun(topics, pages,file):\n",
        "  for i in range (len(topics)):\n",
        "    if pages[i][2] == 1:\n",
        "      book = 'Book1'\n",
        "      print(book)\n",
        "      splitpdf(book,topics[i],list(range(pages[i][0],pages[i][1]+1)))\n",
        "      print(topics[i],'splited')\n",
        "    elif pages[i][2] == 2:\n",
        "      book = 'Book2'\n",
        "      print(book)\n",
        "      splitpdf(book,topics[i],list(range(pages[i][0],pages[i][1]+1)))\n",
        "      print(topics[i],'splited')\n",
        "    elif pages[i][2] == 3:\n",
        "      book = 'Book3'\n",
        "      print(book)\n",
        "      splitpdf(book,topics[i],list(range(pages[i][0],pages[i][1]+1)))\n",
        "      print(topics[i],book,'splited')\n",
        "  mergeFiles(topics,file)\n",
        "  print(\"File Created\")"
      ],
      "metadata": {
        "id": "ITvIoCkKZA7B"
      },
      "execution_count": null,
      "outputs": []
    },
    {
      "cell_type": "code",
      "source": [
        "unit = ['Guidelines'] + sheets\n",
        "mergeFiles(unit,\"Semester 1 CSA\")"
      ],
      "metadata": {
        "colab": {
          "base_uri": "https://localhost:8080/"
        },
        "id": "gkatY6rxZILe",
        "outputId": "551336df-493f-43fd-bc3f-1fe5c488f3ba"
      },
      "execution_count": null,
      "outputs": [
        {
          "output_type": "stream",
          "name": "stdout",
          "text": [
            "File Merged\n"
          ]
        },
        {
          "output_type": "execute_result",
          "data": {
            "text/plain": [
              "True"
            ]
          },
          "metadata": {},
          "execution_count": 67
        }
      ]
    },
    {
      "cell_type": "code",
      "source": [
        "unit = ['Guidelines'] + sheets\n"
      ],
      "metadata": {
        "id": "tk1ToHkdsIus"
      },
      "execution_count": null,
      "outputs": []
    }
  ]
}