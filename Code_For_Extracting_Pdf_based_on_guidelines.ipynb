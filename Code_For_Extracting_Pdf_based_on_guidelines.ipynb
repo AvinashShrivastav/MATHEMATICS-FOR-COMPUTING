{
  "nbformat": 4,
  "nbformat_minor": 0,
  "metadata": {
    "colab": {
      "provenance": [],
      "mount_file_id": "13f_CnXiiC-4CkcoKYGtY0Z_FMOLnsAnM",
      "authorship_tag": "ABX9TyMzmDROd6qN2e6jNswpc6dp",
      "include_colab_link": true
    },
    "kernelspec": {
      "name": "python3",
      "display_name": "Python 3"
    },
    "language_info": {
      "name": "python"
    }
  },
  "cells": [
    {
      "cell_type": "markdown",
      "metadata": {
        "id": "view-in-github",
        "colab_type": "text"
      },
      "source": [
        "<a href=\"https://colab.research.google.com/github/AvinashShrivastav/MATHEMATICS-FOR-COMPUTING/blob/main/Code_For_Extracting_Pdf_based_on_guidelines.ipynb\" target=\"_parent\"><img src=\"https://colab.research.google.com/assets/colab-badge.svg\" alt=\"Open In Colab\"/></a>"
      ]
    },
    {
      "cell_type": "code",
      "source": [
        "!pip install PyPDF2\n",
        "!pip install reportlab"
      ],
      "metadata": {
        "colab": {
          "base_uri": "https://localhost:8080/",
          "height": 381
        },
        "id": "yrfBrexav0T1",
        "outputId": "e33b668d-ecc9-4d48-8983-2daf4f104d30"
      },
      "execution_count": 18,
      "outputs": [
        {
          "output_type": "stream",
          "name": "stdout",
          "text": [
            "Looking in indexes: https://pypi.org/simple, https://us-python.pkg.dev/colab-wheels/public/simple/\n",
            "Requirement already satisfied: PyPDF2 in /usr/local/lib/python3.8/dist-packages (2.12.1)\n",
            "Requirement already satisfied: typing_extensions>=3.10.0.0 in /usr/local/lib/python3.8/dist-packages (from PyPDF2) (4.4.0)\n",
            "Looking in indexes: https://pypi.org/simple, https://us-python.pkg.dev/colab-wheels/public/simple/\n",
            "Collecting reportlab\n",
            "  Downloading reportlab-3.6.12-cp38-cp38-manylinux_2_17_x86_64.manylinux2014_x86_64.whl (2.8 MB)\n",
            "\u001b[K     |████████████████████████████████| 2.8 MB 7.9 MB/s \n",
            "\u001b[?25hCollecting pillow>=9.0.0\n",
            "  Downloading Pillow-9.3.0-cp38-cp38-manylinux_2_17_x86_64.manylinux2014_x86_64.whl (3.2 MB)\n",
            "\u001b[K     |████████████████████████████████| 3.2 MB 53.5 MB/s \n",
            "\u001b[?25hInstalling collected packages: pillow, reportlab\n",
            "  Attempting uninstall: pillow\n",
            "    Found existing installation: Pillow 7.1.2\n",
            "    Uninstalling Pillow-7.1.2:\n",
            "      Successfully uninstalled Pillow-7.1.2\n",
            "Successfully installed pillow-9.3.0 reportlab-3.6.12\n"
          ]
        },
        {
          "output_type": "display_data",
          "data": {
            "application/vnd.colab-display-data+json": {
              "pip_warning": {
                "packages": [
                  "PIL"
                ]
              }
            }
          },
          "metadata": {}
        }
      ]
    },
    {
      "cell_type": "code",
      "execution_count": 14,
      "metadata": {
        "id": "Q8nCm9jOr5ik"
      },
      "outputs": [],
      "source": [
        "book1 = \"/content/Books/strang gilbert mathematicsIntroduction_to_Linear_Algebra-_Fourth_Edition.pdf\"\n",
        "book2 = \"/content/Books/Kreyzig_12th_Advanced_Engineering_Mathem.pdf\"\n",
        "book3 = \"/content/Books/Stephen_Andrilli_David_Hecker-Elementary_Linear_Algebra-EN.pdf\""
      ]
    },
    {
      "cell_type": "code",
      "source": [
        "topics = [\"6.1 Introduction to eigen value ( *Refer 4.2 for applications)\",\"6.2 Diagonalization \",\"6.4 Symmetric Matrices\",'Cayley Hamilton Theorem Page no. 384','6.5 Positive Definite Matrices','8.3 Applications of Markov Matrix']\n",
        "print(len(topics))"
      ],
      "metadata": {
        "colab": {
          "base_uri": "https://localhost:8080/"
        },
        "id": "5pGs6gphuCEJ",
        "outputId": "d0e9fab2-b455-49a8-f8c8-9408630d73e2"
      },
      "execution_count": 15,
      "outputs": [
        {
          "output_type": "stream",
          "name": "stdout",
          "text": [
            "6\n"
          ]
        }
      ]
    },
    {
      "cell_type": "code",
      "source": [
        "pages = [[293,307,1],[308,321,1,1],[340,351,1],[414,415,3],[352,364,1],[441,449,1]]\n",
        "print(len(topics))"
      ],
      "metadata": {
        "colab": {
          "base_uri": "https://localhost:8080/"
        },
        "id": "TjFX0Pnmuma6",
        "outputId": "617e31a4-7b79-4106-fc98-54d7cd7a32ab"
      },
      "execution_count": 16,
      "outputs": [
        {
          "output_type": "stream",
          "name": "stdout",
          "text": [
            "6\n"
          ]
        }
      ]
    },
    {
      "cell_type": "code",
      "source": [
        "for i in range (len(topics)):\n",
        "  if pages[i][2] == 1:\n",
        "    book = book1\n",
        "    print(book)\n",
        "  elif pages[i][2] == 2:\n",
        "    book = book2\n",
        "    print(book)\n",
        "  elif pages[i][2] == 3:\n",
        "    book = book3\n",
        "    print(book)"
      ],
      "metadata": {
        "colab": {
          "base_uri": "https://localhost:8080/"
        },
        "id": "Rw9ryIbcuxh3",
        "outputId": "a52c4cae-cd26-4f64-ace8-56596fe7b629"
      },
      "execution_count": 31,
      "outputs": [
        {
          "output_type": "stream",
          "name": "stdout",
          "text": [
            "/content/Books/strang gilbert mathematicsIntroduction_to_Linear_Algebra-_Fourth_Edition.pdf\n",
            "/content/Books/strang gilbert mathematicsIntroduction_to_Linear_Algebra-_Fourth_Edition.pdf\n",
            "/content/Books/strang gilbert mathematicsIntroduction_to_Linear_Algebra-_Fourth_Edition.pdf\n",
            "/content/Books/Stephen_Andrilli_David_Hecker-Elementary_Linear_Algebra-EN.pdf\n",
            "/content/Books/strang gilbert mathematicsIntroduction_to_Linear_Algebra-_Fourth_Edition.pdf\n",
            "/content/Books/strang gilbert mathematicsIntroduction_to_Linear_Algebra-_Fourth_Edition.pdf\n"
          ]
        }
      ]
    },
    {
      "cell_type": "code",
      "source": [
        "from PyPDF2 import PdfFileReader, PdfFileWriter, PdfMerger\n",
        "from reportlab.pdfgen.canvas import Canvas"
      ],
      "metadata": {
        "id": "j3Xbyh3Evxze"
      },
      "execution_count": 18,
      "outputs": []
    },
    {
      "cell_type": "code",
      "source": [
        "def splitpdf(book,topic,pagerange):\n",
        "  with open(book,'rb') as file:\n",
        "      reader = PdfFileReader(file)\n",
        "      writer = PdfFileWriter()\n",
        "      for page in range(len(reader.pages)):\n",
        "        if page in pagerange:\n",
        "          writer.addPage(reader.getPage(page))\n",
        "          with open(topic+'.pdf','wb') as file:\n",
        "            writer.write(file)"
      ],
      "metadata": {
        "id": "Jfj3_Jg-vXbc"
      },
      "execution_count": 55,
      "outputs": []
    },
    {
      "cell_type": "code",
      "source": [
        "def mergeFiles(fileNameList,filename):\n",
        "  merger = PdfMerger()\n",
        "  for pdf in fileNameList:\n",
        "    canvas = Canvas(pdf+'canvas.pdf')\n",
        "    canvas.drawString(23,57,pdf+\"---:)https://github.com/AvinashShrivastav/MATHEMATICS-FOR-COMPUTING\")\n",
        "    canvas.save()\n",
        "    merger.append(pdf+'canvas.pdf')\n",
        "    pdf = pdf + '.pdf'\n",
        "    merger.append(pdf)\n",
        "  merger.write(str(filename)+'.pdf')\n",
        "  merger.close()\n"
      ],
      "metadata": {
        "id": "sC6spDDqyRfl"
      },
      "execution_count": 56,
      "outputs": []
    },
    {
      "cell_type": "code",
      "source": [
        "for i in range (len(topics)):\n",
        "  if pages[i][2] == 1:\n",
        "    book = book1\n",
        "    print(book)\n",
        "    splitpdf(book,topics[i],list(range(pages[i][0],pages[i][1])))\n",
        "    print(topics[i],'splited')\n",
        "  elif pages[i][2] == 2:\n",
        "    book = book2\n",
        "    print(book)\n",
        "    splitpdf(book,topics[i],list(range(pages[i][0],pages[i][1])))\n",
        "    print(topics[i],'splited')\n",
        "  elif pages[i][2] == 3:\n",
        "    book = book3\n",
        "    print(book)\n",
        "    splitpdf(book,topics[i],list(range(pages[i][0],pages[i][1])))\n",
        "    print(topics[i],book,'splited')\n",
        "mergeFiles(topics,\"Unit 3\")\n",
        "print(\"File Created\")"
      ],
      "metadata": {
        "colab": {
          "base_uri": "https://localhost:8080/"
        },
        "id": "LxMFp__0wQQ_",
        "outputId": "c392265a-7e8c-4dc1-f67c-cf1b8bf68c54"
      },
      "execution_count": 57,
      "outputs": [
        {
          "output_type": "stream",
          "name": "stdout",
          "text": [
            "/content/Books/Kreyzig_12th_Advanced_Engineering_Mathem.pdf\n",
            "9.1 Vectors in 2-Space and 3-Space splited\n",
            "/content/Books/Kreyzig_12th_Advanced_Engineering_Mathem.pdf\n",
            "9.2 Inner Product (Dot Product)  splited\n",
            "/content/Books/Kreyzig_12th_Advanced_Engineering_Mathem.pdf\n",
            "9.3 Vector Product (Cross Product) splited\n",
            "/content/Books/Kreyzig_12th_Advanced_Engineering_Mathem.pdf\n",
            "9.4 Vector and Scalar Functions and Their Fields. Vector Calculus: Derivatives splited\n",
            "/content/Books/Kreyzig_12th_Advanced_Engineering_Mathem.pdf\n",
            "9.7 Gradient of a Scalar Field. Directional Derivative splited\n",
            "/content/Books/Kreyzig_12th_Advanced_Engineering_Mathem.pdf\n",
            "9.8 Divergence of a Vector Field  splited\n",
            "/content/Books/Kreyzig_12th_Advanced_Engineering_Mathem.pdf\n",
            "9.9 Curl of a Vector Field splited\n",
            "File Created\n"
          ]
        }
      ]
    },
    {
      "cell_type": "code",
      "source": [
        "def fun(topics, pages,file):\n",
        "  for i in range (len(topics)):\n",
        "    if pages[i][2] == 1:\n",
        "      book = book1\n",
        "      print(book)\n",
        "      splitpdf(book,topics[i],list(range(pages[i][0],pages[i][1]+1)))\n",
        "      print(topics[i],'splited')\n",
        "    elif pages[i][2] == 2:\n",
        "      book = book2\n",
        "      print(book)\n",
        "      splitpdf(book,topics[i],list(range(pages[i][0],pages[i][1]+1)))\n",
        "      print(topics[i],'splited')\n",
        "    elif pages[i][2] == 3:\n",
        "      book = book3\n",
        "      print(book)\n",
        "      splitpdf(book,topics[i],list(range(pages[i][0],pages[i][1]+1)))\n",
        "      print(topics[i],book,'splited')\n",
        "  mergeFiles(topics,file)\n",
        "  print(\"File Created\")"
      ],
      "metadata": {
        "id": "oMf3gre-22aB"
      },
      "execution_count": 53,
      "outputs": []
    },
    {
      "cell_type": "code",
      "source": [
        "#Unit1\n",
        "fileNameList=['7.1','7.3','7.4 pg.282-285','7.5','7.7 Pg 293-295','7.8 Pg 301-304']\n",
        "pagenumberList = [[282,287,2],[297,307,2],[307,310,2],[313,316,2],[318,320,2],[326,330,2]]\n",
        "fun(fileNameList,pagenumberList,'Unit 1')"
      ],
      "metadata": {
        "colab": {
          "base_uri": "https://localhost:8080/"
        },
        "id": "Jy3RxYFL3q-C",
        "outputId": "20604f69-0b23-4be5-834d-9ed3c04a533e"
      },
      "execution_count": 58,
      "outputs": [
        {
          "output_type": "stream",
          "name": "stdout",
          "text": [
            "/content/Books/Kreyzig_12th_Advanced_Engineering_Mathem.pdf\n",
            "7.1 splited\n",
            "/content/Books/Kreyzig_12th_Advanced_Engineering_Mathem.pdf\n",
            "7.3 splited\n",
            "/content/Books/Kreyzig_12th_Advanced_Engineering_Mathem.pdf\n",
            "7.4 pg.282-285 splited\n",
            "/content/Books/Kreyzig_12th_Advanced_Engineering_Mathem.pdf\n",
            "7.5 splited\n",
            "/content/Books/Kreyzig_12th_Advanced_Engineering_Mathem.pdf\n",
            "7.7 Pg 293-295 splited\n",
            "/content/Books/Kreyzig_12th_Advanced_Engineering_Mathem.pdf\n",
            "7.8 Pg 301-304 splited\n",
            "File Created\n"
          ]
        }
      ]
    },
    {
      "cell_type": "code",
      "source": [
        "#Unit2\n",
        "file=['4.1 – 4.5 (Except Page no. 208 -212)','5.1-5.4','7.5']\n",
        "page = [[234,299,3],[335,386,3],[502,517,3]]\n",
        "fun(file,page,'Unit 2')"
      ],
      "metadata": {
        "colab": {
          "base_uri": "https://localhost:8080/"
        },
        "id": "ZwLAqer74m3J",
        "outputId": "c5c93176-5766-4fd6-efcd-59608ea7c3e8"
      },
      "execution_count": 46,
      "outputs": [
        {
          "output_type": "stream",
          "name": "stdout",
          "text": [
            "/content/Books/Stephen_Andrilli_David_Hecker-Elementary_Linear_Algebra-EN.pdf\n",
            "4.1 – 4.5 (Except Page no. 208 -212) /content/Books/Stephen_Andrilli_David_Hecker-Elementary_Linear_Algebra-EN.pdf splited\n",
            "/content/Books/Stephen_Andrilli_David_Hecker-Elementary_Linear_Algebra-EN.pdf\n",
            "5.1-5.4 /content/Books/Stephen_Andrilli_David_Hecker-Elementary_Linear_Algebra-EN.pdf splited\n",
            "/content/Books/Stephen_Andrilli_David_Hecker-Elementary_Linear_Algebra-EN.pdf\n",
            "7.5 /content/Books/Stephen_Andrilli_David_Hecker-Elementary_Linear_Algebra-EN.pdf splited\n",
            "File Created\n"
          ]
        }
      ]
    },
    {
      "cell_type": "code",
      "source": [
        "#Unit3\n",
        "topics = ['9.1 Vectors in 2-Space and 3-Space','9.2 Inner Product (Dot Product) ', '9.3 Vector Product (Cross Product)','9.4 Vector and Scalar Functions and Their Fields. Vector Calculus: Derivatives','9.7 Gradient of a Scalar Field. Directional Derivative','9.8 Divergence of a Vector Field ','9.9 Curl of a Vector Field']\n",
        "pages = [[379,386,2],[386,392,2],[393,400,2],[400,406,2],[420,427,2],[427,431,2],[431,437,2]]\n",
        "fun(topics,pages,'Unit 4')"
      ],
      "metadata": {
        "colab": {
          "base_uri": "https://localhost:8080/"
        },
        "id": "Z6uffDf63PSR",
        "outputId": "0a183cb6-e1ae-4912-97ac-26f961036dfb"
      },
      "execution_count": 47,
      "outputs": [
        {
          "output_type": "stream",
          "name": "stdout",
          "text": [
            "/content/Books/Kreyzig_12th_Advanced_Engineering_Mathem.pdf\n",
            "9.1 Vectors in 2-Space and 3-Space splited\n",
            "/content/Books/Kreyzig_12th_Advanced_Engineering_Mathem.pdf\n",
            "9.2 Inner Product (Dot Product)  splited\n",
            "/content/Books/Kreyzig_12th_Advanced_Engineering_Mathem.pdf\n",
            "9.3 Vector Product (Cross Product) splited\n",
            "/content/Books/Kreyzig_12th_Advanced_Engineering_Mathem.pdf\n",
            "9.4 Vector and Scalar Functions and Their Fields. Vector Calculus: Derivatives splited\n",
            "/content/Books/Kreyzig_12th_Advanced_Engineering_Mathem.pdf\n",
            "9.7 Gradient of a Scalar Field. Directional Derivative splited\n",
            "/content/Books/Kreyzig_12th_Advanced_Engineering_Mathem.pdf\n",
            "9.8 Divergence of a Vector Field  splited\n",
            "/content/Books/Kreyzig_12th_Advanced_Engineering_Mathem.pdf\n",
            "9.9 Curl of a Vector Field splited\n",
            "File Created\n"
          ]
        }
      ]
    },
    {
      "cell_type": "code",
      "source": [
        "unit = ['/content/Guidelines_DSC03(Sem_1)_Mathematics_For_Computing','Unit 1','Unit 2','Unit 3',\"Unit 4\"]\n",
        "mergeFiles(unit,\"Semester 1 MatheMatics for Computing\")"
      ],
      "metadata": {
        "id": "pDCFKEli6cgz"
      },
      "execution_count": 48,
      "outputs": []
    },
    {
      "cell_type": "code",
      "source": [],
      "metadata": {
        "id": "Z5VSemnu-QSz"
      },
      "execution_count": null,
      "outputs": []
    },
    {
      "cell_type": "code",
      "source": [],
      "metadata": {
        "id": "dWpDYmyx-C1t"
      },
      "execution_count": null,
      "outputs": []
    }
  ]
}